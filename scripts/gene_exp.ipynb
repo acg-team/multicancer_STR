{
 "cells": [
  {
   "cell_type": "code",
   "execution_count": 48,
   "metadata": {},
   "outputs": [],
   "source": [
    "import pandas as pd\n",
    "import qnorm\n",
    "import numpy as np\n",
    "from sklearn.preprocessing import QuantileTransformer"
   ]
  },
  {
   "cell_type": "markdown",
   "metadata": {},
   "source": [
    "#### gene expression data for tumor samples"
   ]
  },
  {
   "cell_type": "code",
   "execution_count": 39,
   "metadata": {},
   "outputs": [],
   "source": [
    "cancer_type = \"CRC\""
   ]
  },
  {
   "cell_type": "code",
   "execution_count": null,
   "metadata": {},
   "outputs": [],
   "source": [
    "gene_exp = pd.read_csv(\"../gene_exp/\" + cancer_type + \"_gene_tpm.tsv\", sep = \"\\t\")\n",
    "gene_exp.index = gene_exp[\"gene_id\"]\n",
    "gene_exp.drop(columns = \"gene_id\", inplace = True)\n",
    "\n",
    "samples = pd.DataFrame({\"sample_id\" : gene_exp.columns[1:]})\n",
    "samples[\"sample_type\"] = [i.split(\"-\")[3][:-1] for i in samples[\"sample_id\"]]\n",
    "samples[\"patient\"] = [\"-\".join(i.split(\"-\")[:3]) for i in samples[\"sample_id\"]]\n",
    "samples[\"plate\"] = [i.split(\"-\")[5] for i in samples[\"sample_id\"]]\n",
    "# select only tumor samples\n",
    "tumor_samples = samples.loc[samples[\"sample_type\"] == \"01\",]\n",
    "# select most recent plate\n",
    "tumor_samples = tumor_samples.sort_values(by = \"plate\", ascending=False) \\\n",
    "            .drop_duplicates(subset = \"patient\", keep = \"first\")\n",
    "\n",
    "gene_tumor = gene_exp[tumor_samples[\"sample_id\"]]\n",
    "gene_tumor.columns = tumor_samples[\"patient\"]\n",
    "gene_tumor = gene_tumor.loc[gene_tumor.median(axis=1) > 0]\n",
    "gene_tumor.shape"
   ]
  },
  {
   "cell_type": "code",
   "execution_count": 69,
   "metadata": {},
   "outputs": [],
   "source": [
    "gene_tumor.to_csv(\"crc_tumor.tsv\", sep = \"\\t\")"
   ]
  },
  {
   "cell_type": "markdown",
   "metadata": {},
   "source": [
    "### gene expression changes for paired samples"
   ]
  },
  {
   "cell_type": "code",
   "execution_count": 41,
   "metadata": {},
   "outputs": [],
   "source": [
    "pairs = pd.read_csv(\"./output/crc_gene_qtl.csv\").query(\"adj_p < 0.05\")\n",
    "id_name = pd.read_csv(\"../gene_exp/gene_id_name.tsv\", sep = \"\\t\")\n",
    "gene_list = pairs.merge(id_name, left_on = \"gene\", right_on = \"gene_name\")[\"gene_id\"].unique()"
   ]
  },
  {
   "cell_type": "code",
   "execution_count": 42,
   "metadata": {},
   "outputs": [],
   "source": [
    "solid_samples = samples.loc[samples[\"sample_type\"] == \"11\",]\n",
    "solid_samples = solid_samples.sort_values(by = \"plate\", ascending=False) \\\n",
    "            .drop_duplicates(subset = \"patient\", keep = \"first\")\n",
    "paired = np.intersect1d(solid_samples[\"patient\"], tumor_samples[\"patient\"])"
   ]
  },
  {
   "cell_type": "code",
   "execution_count": 43,
   "metadata": {},
   "outputs": [],
   "source": [
    "solid_gene = gene_exp.loc[gene_list, solid_samples.loc[solid_samples[\"patient\"].isin(paired), \"sample_id\"]]\n",
    "tumor_gene = gene_exp.loc[gene_list, tumor_samples.loc[tumor_samples[\"patient\"].isin(paired), \"sample_id\"]]\n",
    "solid_gene.columns = [\"-\".join(i.split(\"-\")[:3]) for i in solid_gene.columns]\n",
    "tumor_gene.columns = [\"-\".join(i.split(\"-\")[:3]) for i in tumor_gene.columns]"
   ]
  },
  {
   "cell_type": "code",
   "execution_count": 44,
   "metadata": {},
   "outputs": [
    {
     "data": {
      "text/plain": [
       "((100, 21), (100, 21))"
      ]
     },
     "execution_count": 44,
     "metadata": {},
     "output_type": "execute_result"
    }
   ],
   "source": [
    "solid_gene.shape, tumor_gene.shape"
   ]
  }
 ],
 "metadata": {
  "kernelspec": {
   "display_name": "Python 3",
   "language": "python",
   "name": "python3"
  },
  "language_info": {
   "codemirror_mode": {
    "name": "ipython",
    "version": 3
   },
   "file_extension": ".py",
   "mimetype": "text/x-python",
   "name": "python",
   "nbconvert_exporter": "python",
   "pygments_lexer": "ipython3",
   "version": "3.10.4"
  }
 },
 "nbformat": 4,
 "nbformat_minor": 2
}
