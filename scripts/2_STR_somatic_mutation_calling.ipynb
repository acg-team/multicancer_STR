{
 "cells": [
  {
   "cell_type": "code",
   "execution_count": 42,
   "metadata": {},
   "outputs": [],
   "source": [
    "import pandas as pd\n",
    "import numpy as np \n",
    "import seaborn as sns\n",
    "from matplotlib import pyplot as plt\n",
    "from statannotations.Annotator import Annotator\n",
    "from input_str import pair_sample"
   ]
  },
  {
   "cell_type": "markdown",
   "metadata": {},
   "source": [
    "This script is adapted from https://github.com/acg-team/STRs-in-CRC/tree/main/notebooks/somatic_mutations"
   ]
  },
  {
   "cell_type": "code",
   "execution_count": 44,
   "metadata": {},
   "outputs": [],
   "source": [
    "cancer_type = \"UCEC\"\n",
    "df_str = pair_sample(cancer_type)"
   ]
  },
  {
   "cell_type": "code",
   "execution_count": 45,
   "metadata": {},
   "outputs": [],
   "source": [
    "mask = ~((df_str.allele_a_t == df_str.allele_b_t) &   # homozygous in tumor\n",
    "        (df_str.allele_a_t != df_str.allele_a_n) &  # not equal healthy allele a\n",
    "        (df_str.allele_a_t != df_str.allele_b_n))   # ...or healthy allele b\n",
    "df_str = df_str[mask]"
   ]
  },
  {
   "cell_type": "code",
   "execution_count": 47,
   "metadata": {},
   "outputs": [],
   "source": [
    "def calc_len_differences(a: np.array, b: np.array, aprime: np.array, bprime: np.array):\n",
    "    \"\"\"\n",
    "    Given four arrays of STR allele lengths (two from healthy samples, two from patient-matched tumor samples),\n",
    "    calculate the smallest unit number difference that would transform  'a' and 'b' into 'a_prime' and 'b_prime'.\n",
    "    To do this, calculate the difference for two scenarios:\n",
    "        a -> a_prime & b -> b_prime \n",
    "        OR \n",
    "        a -> b_prime & b -> a_prime\n",
    "    The scenario yielding the smallest unit difference between the alleles of the healthy sample and the tumor\n",
    "    sample is assumed to be the most likely.\n",
    "    \"\"\"\n",
    "    # make matrix to store results\n",
    "    # res_m[0]: alle_a_differences, res_m[1]: allele_b_differences, res_m[2]: sum of absolute differences\n",
    "    res_m = np.array(\n",
    "        [\n",
    "            np.zeros(len(a)),\n",
    "            np.zeros(len(a)),\n",
    "            np.zeros(len(a)),\n",
    "        ]    \n",
    "    )\n",
    "    # Case where allele a healthy -> allele a tumor\n",
    "    a_to_a = np.array([aprime-a, bprime-b])\n",
    "    a_to_a_diff = np.abs(a_to_a).sum(axis=0)\n",
    "    # Case where allele a healthy -> allele b tumor\n",
    "    a_to_b = np.array([bprime-a, aprime-b])\n",
    "    a_to_b_diff = np.abs(a_to_b).sum(axis=0)\n",
    "    \n",
    "    # Make boolian array for indexing, smallest difference between healthy and \n",
    "    # tumor is assumed most likely scenario\n",
    "    comp = (a_to_a_diff >= a_to_b_diff)\n",
    "    \n",
    "    res_m[0:2, ~comp] = a_to_a[:, ~comp]\n",
    "    res_m[0:2, comp] = a_to_b[:, comp]\n",
    "    \n",
    "    res_m[2, ~comp] = a_to_a_diff[~comp]\n",
    "    res_m[2, comp] = a_to_b_diff[comp]\n",
    "    \n",
    "    return res_m.T"
   ]
  },
  {
   "cell_type": "code",
   "execution_count": 48,
   "metadata": {},
   "outputs": [],
   "source": [
    "res = calc_len_differences(\n",
    "    df_str.allele_a_n.to_numpy(),\n",
    "    df_str.allele_b_n.to_numpy(),\n",
    "    df_str.allele_a_t.to_numpy(),\n",
    "    df_str.allele_b_t.to_numpy(),   \n",
    ")\n",
    "df_str[['allele_a_diff', 'allele_b_diff', 'patient_len_diff']] = pd.DataFrame(res, \n",
    "    index = df_str.index).astype(np.int32)"
   ]
  },
  {
   "cell_type": "code",
   "execution_count": 12,
   "metadata": {},
   "outputs": [],
   "source": [
    "def mutation_calculate(df_str):\n",
    "    df_indel = df_str[[\"tmp_id\", \"patient\", \"allele_a_diff\", \"allele_b_diff\", \"patient_len_diff\", \"msi_status\"]].dropna(subset = [\"msi_status\"])\n",
    "    df_somatic_deletions = (df_indel\n",
    "                                .assign(\n",
    "                                    allele_a_diff = lambda x: np.minimum(0, x.allele_a_diff),\n",
    "                                    allele_b_diff = lambda x: np.minimum(0, x.allele_b_diff),\n",
    "                                    patient_len_diff = lambda x: abs(x.allele_a_diff + x.allele_b_diff),\n",
    "                                    mut_type = pd.Categorical([\"deletion\"] * len(df_indel))\n",
    "                                ))\n",
    "    df_barplot_deletions = (\n",
    "        df_somatic_deletions\n",
    "            .groupby(\"patient\")\n",
    "            .size()\n",
    "            .reset_index()\n",
    "    )\n",
    "    df_barplot_deletions.columns = [\"patient\", \"total_count\"]\n",
    "\n",
    "    df_barplot_deletions = df_barplot_deletions.merge(\n",
    "        df_somatic_deletions[df_somatic_deletions[\"patient_len_diff\"] > 0].groupby(\"patient\").size().reset_index(),\n",
    "        on=\"patient\", how=\"left\"\n",
    "    )\n",
    "\n",
    "    df_barplot_deletions.columns = [\"patient\", \"total_count\", \"variable_count\"]\n",
    "    df_barplot_deletions[\"perc_loci_var\"] = df_barplot_deletions[\"variable_count\"] / df_barplot_deletions[\"total_count\"] * 100\n",
    "    df_barplot_deletions = df_barplot_deletions.merge(df_indel[[\"patient\", \"msi_status\"]], on=\"patient\", how=\"left\")\n",
    "    df_barplot_deletions = (\n",
    "        df_barplot_deletions\n",
    "            .drop_duplicates()\n",
    "            .sort_values(by=\"perc_loci_var\")\n",
    "            .reset_index(drop=True)\n",
    "            .assign(patient = lambda x: x.patient.apply(str))\n",
    "    )\n",
    "    df_somatic_insertions = (df_indel\n",
    "                                .assign(\n",
    "                                    allele_a_diff = lambda x: np.maximum(0, x.allele_a_diff),\n",
    "                                    allele_b_diff = lambda x: np.maximum(0, x.allele_b_diff),\n",
    "                                    patient_len_diff = lambda x: abs(x.allele_a_diff + x.allele_b_diff),\n",
    "                                    mut_type = pd.Categorical([\"insertion\"] * len(df_indel))\n",
    "                                ))\n",
    "    df_barplot_insertions = (\n",
    "        df_somatic_insertions\n",
    "            .groupby(\"patient\")\n",
    "            .size()\n",
    "            .reset_index()\n",
    "    )\n",
    "    df_barplot_insertions.columns = [\"patient\", \"total_count\"]\n",
    "\n",
    "    df_barplot_insertions = df_barplot_insertions.merge(\n",
    "        df_somatic_insertions[df_somatic_insertions[\"patient_len_diff\"] > 0].groupby(\"patient\").size().reset_index(),\n",
    "        on=\"patient\", how=\"left\"\n",
    "    )\n",
    "\n",
    "    df_barplot_insertions.columns = [\"patient\", \"total_count\", \"variable_count\"]\n",
    "    df_barplot_insertions[\"perc_loci_var\"] = df_barplot_insertions[\"variable_count\"] / df_barplot_insertions[\"total_count\"] * 100\n",
    "    # df_barplot_insertions = df_barplot_insertions.merge(df_clinical, on=\"patient\", how=\"left\")\n",
    "    df_barplot_insertions = df_barplot_insertions.merge(df_indel[[\"patient\", \"msi_status\"]], on=\"patient\", how=\"left\")\n",
    "    df_barplot_insertions = (\n",
    "        df_barplot_insertions\n",
    "            .drop_duplicates()\n",
    "            .sort_values(by=\"perc_loci_var\")\n",
    "            .reset_index(drop=True)\n",
    "            .assign(patient = lambda x: x.patient.apply(str))\n",
    "    )\n",
    "\n",
    "    target_cols = []\n",
    "    df_somatic_indels = pd.concat([\n",
    "        df_barplot_deletions.assign(mut_type = pd.Categorical([\"deletion\"] * len(df_barplot_deletions), categories=[\"deletion\", \"insertion\"])),\n",
    "        df_barplot_insertions.assign(mut_type = pd.Categorical([\"insertion\"] * len(df_barplot_insertions), categories=[\"deletion\", \"insertion\"]))\n",
    "    ]).reset_index(drop=True)\n",
    "    \n",
    "    return df_somatic_indels"
   ]
  },
  {
   "cell_type": "code",
   "execution_count": 34,
   "metadata": {},
   "outputs": [],
   "source": [
    "msi_info = pd.read_csv(\"../clinical/\" + cancer_type + \"_msi.csv\")\n",
    "msi_info.loc[msi_info[\"msi_status\"] == \"msi-l\", \"msi_status\"] = \"mss\"\n",
    "df_str = df_str.merge(msi_info, on = \"patient\", how=\"left\")\n",
    "df_somatic_indels = mutation_calculate(df_str)"
   ]
  },
  {
   "cell_type": "code",
   "execution_count": 37,
   "metadata": {},
   "outputs": [
    {
     "name": "stdout",
     "output_type": "stream",
     "text": [
      "p-value annotation legend:\n",
      "      ns: p <= 1.00e+00\n",
      "       *: 1.00e-02 < p <= 5.00e-02\n",
      "      **: 1.00e-03 < p <= 1.00e-02\n",
      "     ***: 1.00e-04 < p <= 1.00e-03\n",
      "    ****: p <= 1.00e-04\n",
      "\n",
      "insertion_mss vs. insertion_msi-h: Mann-Whitney-Wilcoxon test two-sided, P_val:3.188e-07 U_stat=1.598e+04\n",
      "deletion_mss vs. deletion_msi-h: Mann-Whitney-Wilcoxon test two-sided, P_val:1.072e-61 U_stat=7.530e+02\n"
     ]
    },
    {
     "data": {
      "text/plain": [
       "Text(0.5, 1.0, 'UCEC')"
      ]
     },
     "execution_count": 37,
     "metadata": {},
     "output_type": "execute_result"
    },
    {
     "data": {
      "image/png": "[encoded data removed]",
      "text/plain": [
       "<Figure size 600x500 with 1 Axes>"
      ]
     },
     "metadata": {},
     "output_type": "display_data"
    }
   ],
   "source": [
    "fig, axes = plt.subplots(1, 1, figsize=(6, 5), dpi = 100)\n",
    "custom_params = {\"axes.spines.right\": False, \"axes.spines.top\": False}\n",
    "sns.set_theme(style=\"ticks\", rc=custom_params, font_scale = 1.2)\n",
    "\n",
    "sns.boxplot(ax = axes,\n",
    "    data = df_somatic_indels,\n",
    "    x=\"mut_type\",\n",
    "    y=\"perc_loci_var\",\n",
    "    hue=\"msi_status\",\n",
    "    boxprops={'facecolor':'None'}\n",
    ")\n",
    "annot = Annotator(ax = axes, pairs = [((\"deletion\", \"mss\"), (\"deletion\", \"msi-h\")), \n",
    "                                         ((\"insertion\", \"mss\"), (\"insertion\", \"msi-h\"))], hue = \"msi_status\",\n",
    "                  data = df_somatic_indels, x = \"mut_type\", y = \"perc_loci_var\")\n",
    "annot.configure(test='Mann-Whitney', text_format='star', loc='inside', verbose=2)\n",
    "annot.apply_test().annotate()\n",
    "\n",
    "handles = axes.legend_.legendHandles\n",
    "labels = [text.get_text() for text in axes.legend_.texts]\n",
    "\n",
    "sns.stripplot(ax = axes,\n",
    "    data = df_somatic_indels,\n",
    "    x=\"mut_type\",\n",
    "    y=\"perc_loci_var\",\n",
    "    hue=\"msi_status\",\n",
    "    palette=\"colorblind\",\n",
    "    dodge=True,\n",
    "    color=\"black\",\n",
    "    s=4\n",
    ")\n",
    "\n",
    "axes.set(\n",
    "    xlabel=\"Mutation type\",\n",
    "    ylabel=\"Percentage of STRs\",    \n",
    "    ylim=(None, axes.get_ylim()[1] + 2),\n",
    ")\n",
    "\n",
    "legend_handles, _ = axes.get_legend_handles_labels()\n",
    "axes.legend(legend_handles, [\"MSS\", \"MSI\"], \n",
    "           bbox_to_anchor=(1,1))\n",
    "axes.set_title(cancer_type)"
   ]
  }
 ],
 "metadata": {
  "kernelspec": {
   "display_name": "Python 3",
   "language": "python",
   "name": "python3"
  },
  "language_info": {
   "codemirror_mode": {
    "name": "ipython",
    "version": 3
   },
   "file_extension": ".py",
   "mimetype": "text/x-python",
   "name": "python",
   "nbconvert_exporter": "python",
   "pygments_lexer": "ipython3",
   "version": "3.10.4"
  }
 },
 "nbformat": 4,
 "nbformat_minor": 2
}
