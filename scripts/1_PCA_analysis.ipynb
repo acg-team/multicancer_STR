{
 "cells": [
  {
   "cell_type": "code",
   "execution_count": 130,
   "metadata": {},
   "outputs": [],
   "source": [
    "from sklearn.impute import KNNImputer\n",
    "from sklearn.decomposition import PCA\n",
    "from sklearn.preprocessing import StandardScaler\n",
    "import pandas as pd \n",
    "import numpy as np\n",
    "from input_str import pair_sample"
   ]
  },
  {
   "cell_type": "code",
   "execution_count": 131,
   "metadata": {},
   "outputs": [
    {
     "data": {
      "text/plain": [
       "464"
      ]
     },
     "execution_count": 131,
     "metadata": {},
     "output_type": "execute_result"
    }
   ],
   "source": [
    "cancer_type = \"CRC\"  # STAD, UCEC\n",
    "sample_type = \"tumor\" # normal"
   ]
  },
  {
   "cell_type": "code",
   "execution_count": null,
   "metadata": {},
   "outputs": [],
   "source": [
    "df_str = pair_sample(cancer_type) \n",
    "\n",
    "if sample_type == \"tumor\":\n",
    "    # STR profile from tumor samples\n",
    "    paired_pt = df_str.iloc[:,:8]\n",
    "    paired_pt[\"mean_allele_length\"] = paired_pt[\"allele_a_t\"] + paired_pt[\"allele_b_t\"]\n",
    "    cluster_data = paired_pt.pivot(index = \"tmp_id\", columns = \"sample_t\", values = \"mean_allele_length\")\n",
    "else:\n",
    "    # STR profile from normal samples\n",
    "    paired_bn = df_str.iloc[:,8:]\n",
    "    paired_bn[\"mean_allele_length\"] = paired_bn[\"allele_a_n\"] + paired_bn[\"allele_b_n\"]\n",
    "    paired_bn[\"tmp_id\"] = df_str[\"tmp_id\"]\n",
    "    cluster_data = paired_bn.pivot(index = \"tmp_id\", columns = \"sample_n\", values = \"mean_allele_length\")"
   ]
  },
  {
   "cell_type": "code",
   "execution_count": 145,
   "metadata": {},
   "outputs": [],
   "source": [
    "cluster_data = cluster_data.loc[cluster_data.isna().sum(axis=1) < cluster_data.shape[1]*0.8,]\n",
    "cluster_data = cluster_data.loc[cluster_data.std(axis = 1) > 0.5]\n",
    "cluster_data.shape"
   ]
  },
  {
   "cell_type": "code",
   "execution_count": 148,
   "metadata": {},
   "outputs": [],
   "source": [
    "imp_knn = KNNImputer(n_neighbors = 5, weights = \"distance\")\n",
    "imputed = imp_knn.fit_transform(cluster_data.T)\n",
    "\n",
    "df_scaled = StandardScaler().fit_transform(imputed)\n",
    "model = PCA(n_components = 5, random_state=42)\n",
    "pca_res = model.fit(df_scaled)\n",
    "pca_data = pd.DataFrame(model.fit_transform(df_scaled))"
   ]
  },
  {
   "cell_type": "code",
   "execution_count": 149,
   "metadata": {},
   "outputs": [
    {
     "data": {
      "text/plain": [
       "array([0.04564988, 0.01267099, 0.01026046, 0.00759367, 0.0074275 ,\n",
       "       0.00678779, 0.00648665, 0.00629227, 0.00599307, 0.00563944])"
      ]
     },
     "execution_count": 149,
     "metadata": {},
     "output_type": "execute_result"
    }
   ],
   "source": [
    "pca_res.explained_variance_ratio_"
   ]
  },
  {
   "cell_type": "code",
   "execution_count": 150,
   "metadata": {},
   "outputs": [],
   "source": [
    "msi_info = pd.read_csv(\"../clinical/\" + cancer_type + \"_msi.csv\")\n",
    "msi_info.loc[msi_info[\"msi_status\"] == \"msi-l\", \"msi_status\"] = \"mss\"\n",
    "pca_data[\"sample\"] =cluster_data.columns\n",
    "pca_data[\"patient\"] = [\"-\".join(i.split(\"-\")[:3]) for i in pca_data[\"sample\"]]\n",
    "pca_data = pca_data.merge(msi_info, left_on = \"patient\", right_on = \"patient\")\n",
    "meta = pd.read_csv(\"../processed_data/meta/\" + cancer_type + \"_meta_filtered.csv\")\n",
    "pca_data = pca_data.merge(meta, left_on= \"sample\", right_on = \"name\")"
   ]
  },
  {
   "cell_type": "code",
   "execution_count": 154,
   "metadata": {},
   "outputs": [],
   "source": [
    "pca_data.to_csv(\"./pca_data/\" + cancer_type + sample_type+ \"_pca.csv\", index=False)"
   ]
  }
 ],
 "metadata": {
  "kernelspec": {
   "display_name": "Python 3",
   "language": "python",
   "name": "python3"
  },
  "language_info": {
   "codemirror_mode": {
    "name": "ipython",
    "version": 3
   },
   "file_extension": ".py",
   "mimetype": "text/x-python",
   "name": "python",
   "nbconvert_exporter": "python",
   "pygments_lexer": "ipython3",
   "version": "3.10.4"
  }
 },
 "nbformat": 4,
 "nbformat_minor": 2
}
