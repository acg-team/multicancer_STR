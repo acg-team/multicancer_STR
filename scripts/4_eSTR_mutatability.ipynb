{
 "cells": [
  {
   "cell_type": "code",
   "execution_count": 42,
   "metadata": {},
   "outputs": [],
   "source": [
    "import pandas as pd\n",
    "import numpy as np \n",
    "import seaborn as sns\n",
    "from matplotlib import pyplot as plt\n",
    "pd.options.mode.chained_assignment = None\n",
    "from scipy.stats import mannwhitneyu\n",
    "from statannotations.Annotator import Annotator\n",
    "import random"
   ]
  },
  {
   "cell_type": "code",
   "execution_count": 43,
   "metadata": {},
   "outputs": [],
   "source": [
    "def unique_patients(samples):\n",
    "    df_samples = pd.DataFrame({ \"samples\" : samples, \n",
    "                            \"patient\" :[\"-\".join(i.split(\"-\")[:3]) for i in samples] })\n",
    "    df_samples[\"plate\"] = [i.split(\"-\")[5] for i in df_samples[\"samples\"]]\n",
    "    df_samples = df_samples.sort_values(by = \"plate\", ascending= False) \\\n",
    "                .drop_duplicates(subset = \"patient\", keep = \"first\")\n",
    "    return df_samples\n",
    "\n",
    "def pair_sample(type):\n",
    "    meta_data = pd.read_csv(\"../processed_data/meta/\" + type + \n",
    "                            \"_meta_filtered.csv\")\n",
    "    if type == \"CRC\":\n",
    "        df_bn = pd.concat([pd.read_csv(\"../COAD/filtered_STR/COAD_bn.csv\"),\n",
    "                                pd.read_csv(\"../READ/filtered_STR/READ_bn.csv\")]).reset_index()\n",
    "        df_stn = pd.concat([pd.read_csv(\"../COAD/filtered_STR/COAD_stn.csv\"),\n",
    "                                pd.read_csv(\"../READ/filtered_STR/READ_stn.csv\")]).reset_index()\n",
    "        df_pt = pd.concat([pd.read_csv(\"../COAD/filtered_STR/COAD_pt.csv\"),\n",
    "                                pd.read_csv(\"../READ/filtered_STR/READ_pt.csv\")]).reset_index()\n",
    "    else: \n",
    "        df_bn = pd.read_csv(\"../\" + type + \"/filtered_STR/\" + type + \"_bn.csv\")\n",
    "        df_stn = pd.read_csv(\"../\" + type + \"/filtered_STR/\" + type + \"_stn.csv\")\n",
    "        df_pt = pd.read_csv(\"../\" + type + \"/filtered_STR/\" + type + \"_pt.csv\")\n",
    "\n",
    "    df_bn = pd.concat([df_bn, df_stn]).reset_index()\n",
    "    df_bn = df_bn.loc[df_bn[\"sample\"].isin(meta_data[\"name\"]),]\n",
    "    df_pt = df_pt.loc[df_pt[\"sample\"].isin(meta_data[\"name\"]),]\n",
    "\n",
    "    # select unique samples \n",
    "    unique_bn = unique_patients(df_bn[\"sample\"].unique())\n",
    "    unique_pt = unique_patients(df_pt[\"sample\"].unique())\n",
    "    merge_sample = pd.merge(unique_bn, unique_pt, on = \"patient\")\n",
    "    df_bn = df_bn.loc[df_bn[\"sample\"].isin(merge_sample[\"samples_x\"])]\n",
    "    df_pt = df_pt.loc[df_pt[\"sample\"].isin(merge_sample[\"samples_y\"])]\n",
    "\n",
    "    df_bn[\"patient\"] = [\"-\".join(i.split(\"-\")[:3]) for i in df_bn[\"sample\"]]\n",
    "    df_pt[\"patient\"] = [\"-\".join(i.split(\"-\")[:3]) for i in df_pt[\"sample\"]]\n",
    "    pt_ns = pd.merge(df_pt, df_bn, on = [\"patient\", \"tmp_id\"], suffixes=('_t', '_n'))\n",
    "\n",
    "    # keep autosomal STRs only \n",
    "    pt_ns[\"chr\"] = [i.split(\"_\")[0] for i in pt_ns[\"tmp_id\"]]\n",
    "    pt_ns = pt_ns.loc[~pt_ns.chr.isin([\"chrM\", \"chrX\", \"chrY\"]),:]\n",
    "    \n",
    "    return pt_ns"
   ]
  },
  {
   "cell_type": "code",
   "execution_count": 44,
   "metadata": {},
   "outputs": [],
   "source": [
    "cancer_type = \"CRC\"\n",
    "df_str = pair_sample(cancer_type)"
   ]
  },
  {
   "cell_type": "code",
   "execution_count": 45,
   "metadata": {},
   "outputs": [],
   "source": [
    "mask = ~((df_str.allele_a_t == df_str.allele_b_t) &   # homozygous in tumor\n",
    "        (df_str.allele_a_t != df_str.allele_a_n) &  # not equal healthy allele a\n",
    "        (df_str.allele_a_t != df_str.allele_b_n))   # ...or healthy allele b\n",
    "df_str = df_str[mask]"
   ]
  },
  {
   "cell_type": "code",
   "execution_count": 46,
   "metadata": {},
   "outputs": [
    {
     "data": {
      "text/plain": [
       "(11060423, 18)"
      ]
     },
     "execution_count": 46,
     "metadata": {},
     "output_type": "execute_result"
    }
   ],
   "source": [
    "df_str.shape"
   ]
  },
  {
   "cell_type": "code",
   "execution_count": 47,
   "metadata": {},
   "outputs": [],
   "source": [
    "def calc_len_differences(a: np.array, b: np.array, aprime: np.array, bprime: np.array):\n",
    "    \"\"\"\n",
    "    Given four arrays of STR allele lengths (two from healthy samples, two from patient-matched tumor samples),\n",
    "    calculate the smallest unit number difference that would transform  'a' and 'b' into 'a_prime' and 'b_prime'.\n",
    "    To do this, calculate the difference for two scenarios:\n",
    "        a -> a_prime & b -> b_prime \n",
    "        OR \n",
    "        a -> b_prime & b -> a_prime\n",
    "    The scenario yielding the smallest unit difference between the alleles of the healthy sample and the tumor\n",
    "    sample is assumed to be the most likely.\n",
    "    \"\"\"\n",
    "    # make matrix to store results\n",
    "    # res_m[0]: alle_a_differences, res_m[1]: allele_b_differences, res_m[2]: sum of absolute differences\n",
    "    res_m = np.array(\n",
    "        [\n",
    "            np.zeros(len(a)),\n",
    "            np.zeros(len(a)),\n",
    "            np.zeros(len(a)),\n",
    "        ]    \n",
    "    )\n",
    "    # Case where allele a healthy -> allele a tumor\n",
    "    a_to_a = np.array([aprime-a, bprime-b])\n",
    "    a_to_a_diff = np.abs(a_to_a).sum(axis=0)\n",
    "    # Case where allele a healthy -> allele b tumor\n",
    "    a_to_b = np.array([bprime-a, aprime-b])\n",
    "    a_to_b_diff = np.abs(a_to_b).sum(axis=0)\n",
    "    \n",
    "    # Make boolian array for indexing, smallest difference between healthy and \n",
    "    # tumor is assumed most likely scenario\n",
    "    comp = (a_to_a_diff >= a_to_b_diff)\n",
    "    \n",
    "    res_m[0:2, ~comp] = a_to_a[:, ~comp]\n",
    "    res_m[0:2, comp] = a_to_b[:, comp]\n",
    "    \n",
    "    res_m[2, ~comp] = a_to_a_diff[~comp]\n",
    "    res_m[2, comp] = a_to_b_diff[comp]\n",
    "    \n",
    "    return res_m.T"
   ]
  },
  {
   "cell_type": "code",
   "execution_count": 48,
   "metadata": {},
   "outputs": [],
   "source": [
    "res = calc_len_differences(\n",
    "    df_str.allele_a_n.to_numpy(),\n",
    "    df_str.allele_b_n.to_numpy(),\n",
    "    df_str.allele_a_t.to_numpy(),\n",
    "    df_str.allele_b_t.to_numpy(),   \n",
    ")\n",
    "df_str[['allele_a_diff', 'allele_b_diff', 'patient_len_diff']] = pd.DataFrame(res, \n",
    "    index = df_str.index).astype(np.int32)"
   ]
  },
  {
   "cell_type": "markdown",
   "metadata": {},
   "source": [
    "## eSTR mutatability"
   ]
  },
  {
   "cell_type": "code",
   "execution_count": 49,
   "metadata": {},
   "outputs": [],
   "source": [
    "column_names = [\"patient\", \"tmp_id\", \"period\", \"ref\", \"allele_a_healthy\", \"allele_a_tumor\",\n",
    "                \"allele_b_healthy\", \"allele_b_tumor\",  \"allele_a_diff\", \"allele_b_diff\", \"patient_len_diff\"]\n",
    "\n",
    "df_out = df_str[[\"patient\", \"tmp_id\", \"period_t\", \"ref_t\", \"allele_a_n\", \"allele_a_t\",\n",
    "                \"allele_b_n\", \"allele_b_t\", \"allele_a_diff\", \"allele_b_diff\", \"patient_len_diff\"]]\n",
    "\n",
    "df_out.columns = column_names"
   ]
  },
  {
   "cell_type": "code",
   "execution_count": 50,
   "metadata": {},
   "outputs": [],
   "source": [
    "crc_p = pd.read_csv(\"./output/crc_gene_qtl.csv\")\n",
    "crc_f = crc_p.query(\"adj_p < 0.05\")"
   ]
  },
  {
   "cell_type": "code",
   "execution_count": 51,
   "metadata": {},
   "outputs": [
    {
     "data": {
      "text/plain": [
       "(433, 433)"
      ]
     },
     "execution_count": 51,
     "metadata": {},
     "output_type": "execute_result"
    }
   ],
   "source": [
    "df_estr = df_out.loc[df_out[\"tmp_id\"].isin(crc_f[\"str_id\"]),]\n",
    "df_nestr = df_out.loc[df_out[\"tmp_id\"].isin(crc_p.query(\" adj_p > 0.05\")[\"str_id\"]),]\n",
    "df_estr[\"patient\"].nunique(), df_nestr[\"patient\"].nunique()"
   ]
  },
  {
   "cell_type": "code",
   "execution_count": 52,
   "metadata": {},
   "outputs": [],
   "source": [
    "msi_info = pd.read_csv(\"../clinical/\" + cancer_type + \"_msi.csv\")\n",
    "msi_info.loc[msi_info[\"msi_status\"] == \"msi-l\", \"msi_status\"] = \"mss\"\n",
    "msi_info.loc[msi_info[\"msi_status\"] == \"indeterminate\", \"msi_status\"] = \"mss\""
   ]
  },
  {
   "cell_type": "code",
   "execution_count": 18,
   "metadata": {},
   "outputs": [],
   "source": [
    "#df_estr = df_estr.groupby([\"period\", \"ref\"])[\"tmp_id\"].count().reset_index().query(\" tmp_id > 50 \")"
   ]
  },
  {
   "cell_type": "code",
   "execution_count": 68,
   "metadata": {},
   "outputs": [],
   "source": [
    "df_estr_msi = df_estr.loc[df_estr[\"patient\"].isin(msi_info.loc[msi_info[\"msi_status\"] == \"mss\", \"patient\"])]\n",
    "df_nestr_msi = df_nestr.loc[df_nestr[\"patient\"].isin(msi_info.loc[msi_info[\"msi_status\"] == \"mss\", \"patient\"])]"
   ]
  },
  {
   "cell_type": "code",
   "execution_count": 69,
   "metadata": {},
   "outputs": [],
   "source": [
    "estr_msi_all = df_estr_msi.groupby([\"period\", \"ref\"])[\"tmp_id\"].count().reset_index().query(\" tmp_id > 100 \")\n",
    "estr_msi_mu = df_estr_msi.query(\" patient_len_diff != 0 \").groupby([\"period\", \"ref\"])[\"tmp_id\"].count().reset_index()\n",
    "type_es_msi = pd.merge(estr_msi_mu, estr_msi_all, on = [\"period\", \"ref\"])\n",
    "type_es_msi[\"es_mu\"] = type_es_msi[\"tmp_id_x\"]/type_es_msi[\"tmp_id_y\"]\n",
    "\n",
    "nestr_msi_all = df_nestr_msi.groupby([\"period\", \"ref\"])[\"tmp_id\"].count().reset_index().query(\" tmp_id > 100 \")\n",
    "nestr_msi_mu = df_nestr_msi.query(\" patient_len_diff != 0 \").groupby([\"period\", \"ref\"])[\"tmp_id\"].count().reset_index()\n",
    "type_ne_msi = pd.merge(nestr_msi_mu, nestr_msi_all, on = [\"period\", \"ref\"])\n",
    "type_ne_msi[\"ne_mu\"] = type_ne_msi[\"tmp_id_x\"]/type_ne_msi[\"tmp_id_y\"]\n",
    "\n",
    "com_msi = type_es_msi.merge(type_ne_msi, on = [\"period\", \"ref\"])"
   ]
  },
  {
   "cell_type": "code",
   "execution_count": 554,
   "metadata": {},
   "outputs": [],
   "source": [
    "# estr_msi_all = df_estr_msi.groupby([\"period\"])[\"tmp_id\"].count().reset_index() #.query(\" tmp_id > 50 \")\n",
    "# estr_msi_mu = df_estr_msi.query(\" patient_len_diff != 0 \").groupby([\"period\"])[\"tmp_id\"].count().reset_index()\n",
    "# type_es_msi = pd.merge(estr_msi_mu, estr_msi_all, on = \"period\")\n",
    "# type_es_msi[\"es_mu\"] = type_es_msi[\"tmp_id_x\"]/type_es_msi[\"tmp_id_y\"]\n",
    "\n",
    "# nestr_msi_all = df_nestr_msi.groupby([\"period\"])[\"tmp_id\"].count().reset_index() #.query(\" tmp_id > 50 \")\n",
    "# nestr_msi_mu = df_nestr_msi.query(\" patient_len_diff != 0 \").groupby([\"period\"])[\"tmp_id\"].count().reset_index()\n",
    "# type_ne_msi = pd.merge(nestr_msi_mu, nestr_msi_all, on = \"period\")\n",
    "# type_ne_msi[\"ne_mu\"] = type_ne_msi[\"tmp_id_x\"]/type_ne_msi[\"tmp_id_y\"]\n",
    "\n",
    "# com_msi = type_es_msi.merge(type_ne_msi, on = \"period\")"
   ]
  },
  {
   "cell_type": "code",
   "execution_count": 64,
   "metadata": {},
   "outputs": [],
   "source": [
    "com_msi = com_mss"
   ]
  },
  {
   "cell_type": "code",
   "execution_count": 70,
   "metadata": {},
   "outputs": [
    {
     "data": {
      "text/plain": [
       "(48, 8)"
      ]
     },
     "execution_count": 70,
     "metadata": {},
     "output_type": "execute_result"
    }
   ],
   "source": [
    "com_mss.shape#, com_msi.shape"
   ]
  },
  {
   "cell_type": "code",
   "execution_count": 65,
   "metadata": {},
   "outputs": [],
   "source": [
    "mss_mu = pd.concat([pd.DataFrame({\"mu\" : com_mss[\"es_mu\"], \"type\" : \"estr\"}),\n",
    "           pd.DataFrame({\"mu\" : com_mss[\"ne_mu\"], \"type\" : \"nestr\"})], axis = 0, ignore_index=True)\n",
    "msi_mu = pd.concat([pd.DataFrame({\"mu\" : com_msi[\"es_mu\"], \"type\" : \"estr\"}),\n",
    "           pd.DataFrame({\"mu\" : com_msi[\"ne_mu\"], \"type\" : \"nestr\"})], axis = 0, ignore_index=True)"
   ]
  },
  {
   "cell_type": "code",
   "execution_count": null,
   "metadata": {},
   "outputs": [
    {
     "name": "stdout",
     "output_type": "stream",
     "text": [
      "p-value annotation legend:\n",
      "      ns: p <= 1.00e+00\n",
      "       *: 1.00e-02 < p <= 5.00e-02\n",
      "      **: 1.00e-03 < p <= 1.00e-02\n",
      "     ***: 1.00e-04 < p <= 1.00e-03\n",
      "    ****: p <= 1.00e-04\n",
      "\n",
      "estr vs. nestr: Mann-Whitney-Wilcoxon test two-sided, P_val:2.839e-03 U_stat=6.930e+02\n",
      "p-value annotation legend:\n",
      "      ns: p <= 1.00e+00\n",
      "       *: 1.00e-02 < p <= 5.00e-02\n",
      "      **: 1.00e-03 < p <= 1.00e-02\n",
      "     ***: 1.00e-04 < p <= 1.00e-03\n",
      "    ****: p <= 1.00e-04\n",
      "\n",
      "estr vs. nestr: Mann-Whitney-Wilcoxon test two-sided, P_val:1.603e-01 U_stat=1.187e+03\n"
     ]
    },
    {
     "data": {
      "text/plain": [
       "(<AxesSubplot:>, [<statannotations.Annotation.Annotation at 0x292b1c17550>])"
      ]
     },
     "execution_count": 69,
     "metadata": {},
     "output_type": "execute_result"
    },
    {
     "data": {
      "image/png": "[encoded data removed]",
      "text/plain": [
       "<Figure size 750x600 with 2 Axes>"
      ]
     },
     "metadata": {},
     "output_type": "display_data"
    }
   ],
   "source": [
    "## testing another way of visualization\n",
    "fig, axes = plt.subplots(1, 2, figsize=(5, 4), tight_layout=True, sharey=True,\n",
    "                         dpi = 150)\n",
    "custom_params = {\"axes.spines.top\": False, \"axes.spines.right\": False}\n",
    "sns.set_theme(style=\"white\", rc = custom_params, font_scale = 1.1)\n",
    "fig.subplots_adjust(hspace=0.3)\n",
    "\n",
    "sns.boxplot(ax = axes[1],\n",
    "    data = mss_mu, \n",
    "    boxprops={'facecolor':'None'},\n",
    "    x = \"type\", y = \"mu\")\n",
    "sns.stripplot(ax = axes[1],\n",
    "    data = mss_mu, \n",
    "    x = \"type\", y = \"mu\",\n",
    "    palette = [sns.color_palette(\"Paired\")[4], \n",
    "               sns.color_palette(\"Set2\")[-1]])\n",
    "axes[1].set_xlabel(\"\")\n",
    "axes[1].set_xticklabels([\"eSTR\", \"non-eSTR\"])\n",
    "axes[1].set_ylabel(\"\")\n",
    "\n",
    "sns.boxplot(ax = axes[0],\n",
    "    data = msi_mu, \n",
    "    boxprops={'facecolor':'None'},\n",
    "    x = \"type\", y = \"mu\")\n",
    "sns.stripplot(ax = axes[0],\n",
    "    data = msi_mu, \n",
    "    x = \"type\", y = \"mu\",\n",
    "    palette = [sns.color_palette(\"Paired\")[4], \n",
    "               sns.color_palette(\"Set2\")[-1]])\n",
    "axes[0].set_xlabel(\"\")\n",
    "axes[0].set_xticklabels([\"eSTR\", \"non-eSTR\"])\n",
    "axes[0].set_ylabel(\"Fraction of mutation\")\n",
    "\n",
    "annot = Annotator(ax = axes[0], pairs = [(\"estr\",\"nestr\")], \n",
    "                  data = msi_mu, x = \"type\", y = \"mu\")\n",
    "annot.configure(test='Mann-Whitney', text_format='star', loc='inside')\n",
    "annot.apply_test().annotate()\n",
    "\n",
    "annot = Annotator(ax = axes[1], pairs = [(\"estr\",\"nestr\")], \n",
    "                  data = mss_mu, x = \"type\", y = \"mu\")\n",
    "annot.configure(test='Mann-Whitney', text_format='star', loc='inside')\n",
    "annot.apply_test().annotate()"
   ]
  },
  {
   "cell_type": "code",
   "execution_count": 39,
   "metadata": {},
   "outputs": [
    {
     "data": {
      "text/plain": [
       "(29, 36)"
      ]
     },
     "execution_count": 39,
     "metadata": {},
     "output_type": "execute_result"
    }
   ],
   "source": [
    "(com_msi[\"es_mu\"] > (com_msi[\"ne_mu\"] + 0.05)).sum(), com_msi.shape[0]"
   ]
  },
  {
   "cell_type": "code",
   "execution_count": 71,
   "metadata": {},
   "outputs": [
    {
     "data": {
      "text/plain": [
       "(17, 48)"
      ]
     },
     "execution_count": 71,
     "metadata": {},
     "output_type": "execute_result"
    }
   ],
   "source": [
    "(com_mss[\"es_mu\"] > (com_mss[\"ne_mu\"] + 0.05)).sum(),com_mss.shape[0]"
   ]
  },
  {
   "cell_type": "code",
   "execution_count": 496,
   "metadata": {},
   "outputs": [],
   "source": [
    "# 433\n",
    "# eSTRs more mutable 25/31 in CRC MSI\n",
    "# eSTRs more mutable 16/45 in CRC MSS\n",
    "# 439\n",
    "# eSTRs more mutable 10/17 in STAD MSI\n",
    "# eSTRs more mutable 9/23 in STAD MSS\n",
    "# 464\n",
    "# eSTRs more mutable 9/16 in UCEC MSI\n",
    "# eSTRs more mutable 4/17 in UCEC MSS"
   ]
  },
  {
   "cell_type": "code",
   "execution_count": 41,
   "metadata": {},
   "outputs": [
    {
     "data": {
      "text/plain": [
       "<matplotlib.collections.PolyCollection at 0x24b82c4c8e0>"
      ]
     },
     "execution_count": 41,
     "metadata": {},
     "output_type": "execute_result"
    },
    {
     "data": {
      "image/png": "[encoded data removed]",
      "text/plain": [
       "<Figure size 750x1650 with 2 Axes>"
      ]
     },
     "metadata": {
      "needs_background": "light"
     },
     "output_type": "display_data"
    }
   ],
   "source": [
    "fig, axes = plt.subplots(2, 1, figsize=(5, 11), dpi = 150, sharex = True)\n",
    "# custom_params = {\"axes.spines.right\": False, \"axes.spines.top\": False}\n",
    "# sns.set_theme(style=\"white\", rc=custom_params, font_scale = 1.1)\n",
    "x1 = np.arange(0,1.1,0.1)\n",
    "sns.set_theme(style=\"white\", font_scale = 1.2)\n",
    "sns.scatterplot(ax = axes[0], data = com_msi, x = \"ne_mu\", y = \"es_mu\", \n",
    "                s = 50,\n",
    "                #alpha = 0.8,\n",
    "                edgecolor = \"black\",\n",
    "                linewidth = 0.3,\n",
    "                color = sns.color_palette()[1])\n",
    "axes[0].set_xlim(0,1)\n",
    "axes[0].set_ylim(0,1)\n",
    "axes[0].plot([0, 0.95], [0.05, 1], \"--\", color = \"gray\")\n",
    "axes[0].plot([0.05, 1], [0, 0.95], \"--\", color = \"gray\")\n",
    "axes[0].set_xlabel(\"Fraction of non-eSTRs mutated\")\n",
    "axes[0].set_ylabel(\"Fraction of eSTRs mutated\")\n",
    "axes[0].set_title(\"UCEC MSI\")\n",
    "axes[0].fill_between(x = x1, y1 = np.ones_like(x1), y2 = x1 + 0.05, \n",
    "                facecolor ='gray', alpha = 0.2)\n",
    "\n",
    "sns.scatterplot(ax = axes[1], data = com_mss, x = \"ne_mu\", y = \"es_mu\",\n",
    "                s = 50,\n",
    "                #alpha = 0.8,\n",
    "                edgecolor = \"black\",\n",
    "                linewidth = 0.3,)\n",
    "axes[1].set_xlim(0,1)\n",
    "axes[1].set_ylim(0,1)\n",
    "axes[1].plot([0, 0.95], [0.05, 1], \"--\", color = \"gray\")\n",
    "axes[1].plot([0.05, 1], [0, 0.95], \"--\", color = \"gray\")\n",
    "axes[1].set_xlabel(\"Fraction of non-eSTRs mutated\")\n",
    "axes[1].set_ylabel(\"Fraction of eSTRs mutated\")\n",
    "axes[1].set_title(\"UCEC MSS\")\n",
    "axes[1].fill_between(x = x1, y1 = np.ones_like(x1), y2 = x1 + 0.05, \n",
    "                facecolor ='gray', alpha = 0.2)"
   ]
  },
  {
   "cell_type": "code",
   "execution_count": 146,
   "metadata": {},
   "outputs": [
    {
     "name": "stdout",
     "output_type": "stream",
     "text": [
      "0\n",
      "1\n",
      "2\n",
      "3\n",
      "4\n",
      "5\n",
      "6\n",
      "7\n",
      "8\n",
      "9\n",
      "10\n",
      "11\n",
      "12\n",
      "13\n",
      "14\n",
      "15\n",
      "16\n",
      "17\n",
      "18\n",
      "19\n",
      "20\n",
      "21\n",
      "22\n",
      "23\n",
      "24\n",
      "25\n",
      "26\n",
      "27\n",
      "28\n",
      "29\n",
      "30\n",
      "31\n",
      "32\n",
      "33\n",
      "34\n",
      "35\n",
      "36\n",
      "37\n",
      "38\n",
      "39\n",
      "40\n",
      "41\n",
      "42\n",
      "43\n",
      "44\n",
      "45\n",
      "46\n",
      "47\n",
      "48\n",
      "49\n",
      "50\n",
      "51\n",
      "52\n",
      "53\n",
      "54\n",
      "55\n",
      "56\n",
      "57\n",
      "58\n",
      "59\n",
      "60\n",
      "61\n",
      "62\n",
      "63\n",
      "64\n",
      "65\n",
      "66\n",
      "67\n",
      "68\n",
      "69\n",
      "70\n",
      "71\n",
      "72\n",
      "73\n",
      "74\n",
      "75\n",
      "76\n",
      "77\n",
      "78\n",
      "79\n",
      "80\n",
      "81\n",
      "82\n",
      "83\n",
      "84\n",
      "85\n",
      "86\n",
      "87\n",
      "88\n",
      "89\n",
      "90\n",
      "91\n",
      "92\n",
      "93\n",
      "94\n",
      "95\n",
      "96\n",
      "97\n",
      "98\n",
      "99\n",
      "100\n",
      "101\n",
      "102\n",
      "103\n",
      "104\n",
      "105\n",
      "106\n",
      "107\n",
      "108\n",
      "109\n",
      "110\n",
      "111\n",
      "112\n",
      "113\n",
      "114\n",
      "115\n",
      "116\n",
      "117\n",
      "118\n",
      "119\n",
      "120\n",
      "121\n",
      "122\n",
      "123\n",
      "124\n",
      "125\n",
      "126\n",
      "127\n",
      "128\n",
      "129\n",
      "130\n",
      "131\n",
      "132\n",
      "133\n",
      "134\n",
      "135\n",
      "136\n",
      "137\n",
      "138\n",
      "139\n",
      "140\n",
      "141\n",
      "142\n",
      "143\n",
      "144\n",
      "145\n",
      "146\n",
      "147\n",
      "148\n",
      "149\n",
      "150\n",
      "151\n",
      "152\n",
      "153\n",
      "154\n",
      "155\n",
      "156\n",
      "157\n",
      "158\n",
      "159\n",
      "160\n",
      "161\n",
      "162\n",
      "163\n",
      "164\n",
      "165\n",
      "166\n",
      "167\n",
      "168\n",
      "169\n",
      "170\n",
      "171\n",
      "172\n",
      "173\n",
      "174\n",
      "175\n",
      "176\n",
      "177\n",
      "178\n",
      "179\n",
      "180\n",
      "181\n",
      "182\n",
      "183\n",
      "184\n",
      "185\n",
      "186\n",
      "187\n",
      "188\n",
      "189\n",
      "190\n",
      "191\n",
      "192\n",
      "193\n",
      "194\n",
      "195\n",
      "196\n",
      "197\n",
      "198\n",
      "199\n",
      "200\n",
      "201\n",
      "202\n",
      "203\n",
      "204\n",
      "205\n",
      "206\n",
      "207\n",
      "208\n",
      "209\n",
      "210\n",
      "211\n",
      "212\n",
      "213\n",
      "214\n",
      "215\n",
      "216\n",
      "217\n",
      "218\n",
      "219\n",
      "220\n",
      "221\n",
      "222\n",
      "223\n",
      "224\n",
      "225\n",
      "226\n",
      "227\n",
      "228\n",
      "229\n",
      "230\n",
      "231\n",
      "232\n",
      "233\n",
      "234\n",
      "235\n",
      "236\n",
      "237\n",
      "238\n",
      "239\n",
      "240\n",
      "241\n",
      "242\n",
      "243\n",
      "244\n",
      "245\n",
      "246\n",
      "247\n",
      "248\n",
      "249\n",
      "250\n",
      "251\n",
      "252\n",
      "253\n",
      "254\n",
      "255\n",
      "256\n",
      "257\n",
      "258\n",
      "259\n",
      "260\n",
      "261\n",
      "262\n",
      "263\n",
      "264\n",
      "265\n",
      "266\n",
      "267\n",
      "268\n",
      "269\n",
      "270\n",
      "271\n",
      "272\n",
      "273\n",
      "274\n",
      "275\n",
      "276\n",
      "277\n",
      "278\n",
      "279\n",
      "280\n",
      "281\n",
      "282\n",
      "283\n",
      "284\n",
      "285\n",
      "286\n",
      "287\n",
      "288\n",
      "289\n",
      "290\n",
      "291\n",
      "292\n",
      "293\n",
      "294\n",
      "295\n",
      "296\n",
      "297\n",
      "298\n",
      "299\n",
      "300\n",
      "301\n",
      "302\n",
      "303\n",
      "304\n",
      "305\n",
      "306\n",
      "307\n",
      "308\n",
      "309\n",
      "310\n",
      "311\n",
      "312\n",
      "313\n",
      "314\n",
      "315\n",
      "316\n",
      "317\n",
      "318\n",
      "319\n",
      "320\n",
      "321\n",
      "322\n",
      "323\n",
      "324\n",
      "325\n",
      "326\n",
      "327\n",
      "328\n",
      "329\n",
      "330\n",
      "331\n",
      "332\n",
      "333\n",
      "334\n",
      "335\n",
      "336\n",
      "337\n",
      "338\n",
      "339\n",
      "340\n",
      "341\n",
      "342\n",
      "343\n",
      "344\n",
      "345\n",
      "346\n",
      "347\n",
      "348\n",
      "349\n",
      "350\n",
      "351\n",
      "352\n",
      "353\n",
      "354\n",
      "355\n",
      "356\n",
      "357\n",
      "358\n",
      "359\n",
      "360\n",
      "361\n",
      "362\n",
      "363\n",
      "364\n",
      "365\n",
      "366\n",
      "367\n",
      "368\n",
      "369\n",
      "370\n",
      "371\n",
      "372\n",
      "373\n",
      "374\n",
      "375\n",
      "376\n",
      "377\n",
      "378\n",
      "379\n",
      "380\n",
      "381\n",
      "382\n",
      "383\n",
      "384\n",
      "385\n",
      "386\n",
      "387\n",
      "388\n",
      "389\n",
      "390\n",
      "391\n",
      "392\n",
      "393\n",
      "394\n",
      "395\n",
      "396\n",
      "397\n",
      "398\n",
      "399\n",
      "400\n",
      "401\n",
      "402\n",
      "403\n",
      "404\n",
      "405\n",
      "406\n",
      "407\n",
      "408\n",
      "409\n",
      "410\n",
      "411\n",
      "412\n",
      "413\n",
      "414\n",
      "415\n",
      "416\n",
      "417\n",
      "418\n",
      "419\n",
      "420\n",
      "421\n",
      "422\n",
      "423\n",
      "424\n",
      "425\n",
      "426\n",
      "427\n",
      "428\n",
      "429\n",
      "430\n",
      "431\n",
      "432\n",
      "433\n",
      "434\n",
      "435\n",
      "436\n",
      "437\n",
      "438\n",
      "439\n",
      "440\n",
      "441\n",
      "442\n",
      "443\n",
      "444\n",
      "445\n",
      "446\n",
      "447\n",
      "448\n",
      "449\n",
      "450\n",
      "451\n",
      "452\n",
      "453\n",
      "454\n",
      "455\n",
      "456\n",
      "457\n",
      "458\n",
      "459\n",
      "460\n",
      "461\n",
      "462\n",
      "463\n",
      "464\n",
      "465\n",
      "466\n",
      "467\n",
      "468\n",
      "469\n",
      "470\n",
      "471\n",
      "472\n",
      "473\n",
      "474\n",
      "475\n",
      "476\n",
      "477\n",
      "478\n",
      "479\n",
      "480\n",
      "481\n",
      "482\n",
      "483\n",
      "484\n",
      "485\n",
      "486\n",
      "487\n",
      "488\n",
      "489\n",
      "490\n",
      "491\n",
      "492\n",
      "493\n",
      "494\n",
      "495\n",
      "496\n",
      "497\n",
      "498\n",
      "499\n",
      "500\n",
      "501\n",
      "502\n",
      "503\n",
      "504\n",
      "505\n",
      "506\n",
      "507\n",
      "508\n",
      "509\n",
      "510\n",
      "511\n",
      "512\n",
      "513\n",
      "514\n",
      "515\n",
      "516\n",
      "517\n",
      "518\n",
      "519\n",
      "520\n",
      "521\n",
      "522\n",
      "523\n",
      "524\n",
      "525\n",
      "526\n",
      "527\n",
      "528\n",
      "529\n",
      "530\n",
      "531\n",
      "532\n",
      "533\n",
      "534\n",
      "535\n",
      "536\n",
      "537\n",
      "538\n",
      "539\n",
      "540\n",
      "541\n",
      "542\n",
      "543\n",
      "544\n",
      "545\n",
      "546\n",
      "547\n",
      "548\n",
      "549\n",
      "550\n",
      "551\n",
      "552\n",
      "553\n",
      "554\n",
      "555\n",
      "556\n",
      "557\n",
      "558\n",
      "559\n",
      "560\n",
      "561\n",
      "562\n",
      "563\n",
      "564\n",
      "565\n",
      "566\n",
      "567\n",
      "568\n",
      "569\n",
      "570\n",
      "571\n",
      "572\n",
      "573\n",
      "574\n",
      "575\n",
      "576\n",
      "577\n",
      "578\n",
      "579\n",
      "580\n",
      "581\n",
      "582\n",
      "583\n",
      "584\n",
      "585\n",
      "586\n",
      "587\n",
      "588\n",
      "589\n",
      "590\n",
      "591\n",
      "592\n",
      "593\n",
      "594\n",
      "595\n",
      "596\n",
      "597\n",
      "598\n",
      "599\n",
      "600\n",
      "601\n",
      "602\n",
      "603\n",
      "604\n",
      "605\n",
      "606\n",
      "607\n",
      "608\n",
      "609\n",
      "610\n",
      "611\n",
      "612\n",
      "613\n",
      "614\n",
      "615\n",
      "616\n",
      "617\n",
      "618\n",
      "619\n",
      "620\n",
      "621\n",
      "622\n",
      "623\n",
      "624\n",
      "625\n",
      "626\n",
      "627\n",
      "628\n",
      "629\n",
      "630\n",
      "631\n",
      "632\n",
      "633\n",
      "634\n",
      "635\n",
      "636\n",
      "637\n",
      "638\n",
      "639\n",
      "640\n",
      "641\n",
      "642\n",
      "643\n",
      "644\n",
      "645\n",
      "646\n",
      "647\n",
      "648\n",
      "649\n",
      "650\n",
      "651\n",
      "652\n",
      "653\n",
      "654\n",
      "655\n",
      "656\n",
      "657\n",
      "658\n",
      "659\n",
      "660\n",
      "661\n",
      "662\n",
      "663\n",
      "664\n",
      "665\n",
      "666\n",
      "667\n",
      "668\n",
      "669\n",
      "670\n",
      "671\n",
      "672\n",
      "673\n",
      "674\n",
      "675\n",
      "676\n",
      "677\n",
      "678\n",
      "679\n",
      "680\n",
      "681\n",
      "682\n",
      "683\n",
      "684\n",
      "685\n",
      "686\n",
      "687\n",
      "688\n",
      "689\n",
      "690\n",
      "691\n",
      "692\n",
      "693\n",
      "694\n",
      "695\n",
      "696\n",
      "697\n",
      "698\n",
      "699\n",
      "700\n",
      "701\n",
      "702\n",
      "703\n",
      "704\n",
      "705\n",
      "706\n",
      "707\n",
      "708\n",
      "709\n",
      "710\n",
      "711\n",
      "712\n",
      "713\n",
      "714\n",
      "715\n",
      "716\n",
      "717\n",
      "718\n",
      "719\n",
      "720\n",
      "721\n",
      "722\n",
      "723\n",
      "724\n",
      "725\n",
      "726\n",
      "727\n",
      "728\n",
      "729\n",
      "730\n",
      "731\n",
      "732\n",
      "733\n",
      "734\n",
      "735\n",
      "736\n",
      "737\n",
      "738\n",
      "739\n",
      "740\n",
      "741\n",
      "742\n",
      "743\n",
      "744\n",
      "745\n",
      "746\n",
      "747\n",
      "748\n",
      "749\n",
      "750\n",
      "751\n",
      "752\n",
      "753\n",
      "754\n",
      "755\n",
      "756\n",
      "757\n",
      "758\n",
      "759\n",
      "760\n",
      "761\n",
      "762\n",
      "763\n",
      "764\n",
      "765\n",
      "766\n",
      "767\n",
      "768\n",
      "769\n",
      "770\n",
      "771\n",
      "772\n",
      "773\n",
      "774\n",
      "775\n",
      "776\n",
      "777\n",
      "778\n",
      "779\n",
      "780\n",
      "781\n",
      "782\n",
      "783\n",
      "784\n",
      "785\n",
      "786\n",
      "787\n",
      "788\n",
      "789\n",
      "790\n",
      "791\n",
      "792\n",
      "793\n",
      "794\n",
      "795\n",
      "796\n",
      "797\n",
      "798\n",
      "799\n",
      "800\n",
      "801\n",
      "802\n",
      "803\n",
      "804\n",
      "805\n",
      "806\n",
      "807\n",
      "808\n",
      "809\n",
      "810\n",
      "811\n",
      "812\n",
      "813\n",
      "814\n",
      "815\n",
      "816\n",
      "817\n",
      "818\n",
      "819\n",
      "820\n",
      "821\n",
      "822\n",
      "823\n",
      "824\n",
      "825\n",
      "826\n",
      "827\n",
      "828\n",
      "829\n",
      "830\n",
      "831\n",
      "832\n",
      "833\n",
      "834\n",
      "835\n",
      "836\n",
      "837\n",
      "838\n",
      "839\n",
      "840\n",
      "841\n",
      "842\n",
      "843\n",
      "844\n",
      "845\n",
      "846\n",
      "847\n",
      "848\n",
      "849\n",
      "850\n",
      "851\n",
      "852\n",
      "853\n",
      "854\n",
      "855\n",
      "856\n",
      "857\n",
      "858\n",
      "859\n",
      "860\n",
      "861\n",
      "862\n",
      "863\n",
      "864\n",
      "865\n",
      "866\n",
      "867\n",
      "868\n",
      "869\n",
      "870\n",
      "871\n",
      "872\n",
      "873\n",
      "874\n",
      "875\n",
      "876\n",
      "877\n",
      "878\n",
      "879\n",
      "880\n",
      "881\n",
      "882\n",
      "883\n",
      "884\n",
      "885\n",
      "886\n",
      "887\n",
      "888\n",
      "889\n",
      "890\n",
      "891\n",
      "892\n",
      "893\n",
      "894\n",
      "895\n",
      "896\n",
      "897\n",
      "898\n",
      "899\n",
      "900\n",
      "901\n",
      "902\n",
      "903\n",
      "904\n",
      "905\n",
      "906\n",
      "907\n",
      "908\n",
      "909\n",
      "910\n",
      "911\n",
      "912\n",
      "913\n",
      "914\n",
      "915\n",
      "916\n",
      "917\n",
      "918\n",
      "919\n",
      "920\n",
      "921\n",
      "922\n",
      "923\n",
      "924\n",
      "925\n",
      "926\n",
      "927\n",
      "928\n",
      "929\n",
      "930\n",
      "931\n",
      "932\n",
      "933\n",
      "934\n",
      "935\n",
      "936\n",
      "937\n",
      "938\n",
      "939\n",
      "940\n",
      "941\n",
      "942\n",
      "943\n",
      "944\n",
      "945\n",
      "946\n",
      "947\n",
      "948\n",
      "949\n",
      "950\n",
      "951\n",
      "952\n",
      "953\n",
      "954\n",
      "955\n",
      "956\n",
      "957\n",
      "958\n",
      "959\n",
      "960\n",
      "961\n",
      "962\n",
      "963\n",
      "964\n",
      "965\n",
      "966\n",
      "967\n",
      "968\n",
      "969\n",
      "970\n",
      "971\n",
      "972\n",
      "973\n",
      "974\n",
      "975\n",
      "976\n",
      "977\n",
      "978\n",
      "979\n",
      "980\n",
      "981\n",
      "982\n",
      "983\n",
      "984\n",
      "985\n",
      "986\n",
      "987\n",
      "988\n",
      "989\n",
      "990\n",
      "991\n",
      "992\n",
      "993\n",
      "994\n",
      "995\n",
      "996\n",
      "997\n",
      "998\n",
      "999\n"
     ]
    }
   ],
   "source": [
    "# permutation\n",
    "all_num = crc_p.shape[0]\n",
    "estr_num = crc_f.shape[0]\n",
    "n_permutations = 1000\n",
    "perm_diffs = np.zeros(n_permutations)\n",
    "for i in range(n_permutations):\n",
    "    print(i)\n",
    "    random_estr = np.array(random.sample(range(all_num), estr_num))\n",
    "    permutation_estr = crc_p.iloc[random_estr, ]\n",
    "    permutation_nestr = crc_p.iloc[~crc_p.index.isin(random_estr),]\n",
    "\n",
    "    df_estr = df_out.loc[df_out[\"tmp_id\"].isin(permutation_estr[\"str_id\"]),]\n",
    "    df_nestr = df_out.loc[df_out[\"tmp_id\"].isin(permutation_nestr[\"str_id\"]),]\n",
    "\n",
    "    df_estr_msi = df_estr.loc[df_estr[\"patient\"].isin(msi_info.loc[msi_info[\"msi_status\"] == \"mss\", \"patient\"])]\n",
    "    df_nestr_msi = df_nestr.loc[df_nestr[\"patient\"].isin(msi_info.loc[msi_info[\"msi_status\"] == \"mss\", \"patient\"])]\n",
    "\n",
    "    estr_msi_all = df_estr_msi.groupby([\"period\", \"ref\"])[\"tmp_id\"].count().reset_index().query(\" tmp_id > 50 \")\n",
    "    estr_msi_mu = df_estr_msi.query(\" patient_len_diff != 0 \").groupby([\"period\", \"ref\"])[\"tmp_id\"].count().reset_index()\n",
    "    type_es_msi = pd.merge(estr_msi_mu, estr_msi_all, on = [\"period\", \"ref\"])\n",
    "    type_es_msi[\"es_mu\"] = type_es_msi[\"tmp_id_x\"]/type_es_msi[\"tmp_id_y\"]\n",
    "\n",
    "    nestr_msi_all = df_nestr_msi.groupby([\"period\", \"ref\"])[\"tmp_id\"].count().reset_index().query(\" tmp_id > 50 \")\n",
    "    nestr_msi_mu = df_nestr_msi.query(\" patient_len_diff != 0 \").groupby([\"period\", \"ref\"])[\"tmp_id\"].count().reset_index()\n",
    "    type_ne_msi = pd.merge(nestr_msi_mu, nestr_msi_all, on = [\"period\", \"ref\"])\n",
    "    type_ne_msi[\"ne_mu\"] = type_ne_msi[\"tmp_id_x\"]/type_ne_msi[\"tmp_id_y\"]\n",
    "\n",
    "    com_msi = type_es_msi.merge(type_ne_msi, on = [\"period\", \"ref\"])\n",
    "    \n",
    "    perm_diffs[i] = ((com_msi[\"es_mu\"] > (com_msi[\"ne_mu\"] + 0.05)).sum())/com_msi.shape[0]"
   ]
  },
  {
   "cell_type": "code",
   "execution_count": 147,
   "metadata": {},
   "outputs": [
    {
     "data": {
      "text/plain": [
       "0.003"
      ]
     },
     "execution_count": 147,
     "metadata": {},
     "output_type": "execute_result"
    }
   ],
   "source": [
    "p_value = np.sum(np.abs(perm_diffs) >= np.abs(16/45)) / n_permutations\n",
    "p_value"
   ]
  },
  {
   "cell_type": "code",
   "execution_count": 148,
   "metadata": {},
   "outputs": [],
   "source": [
    "pd.DataFrame(perm_diffs).to_csv(\"crc_mss_permutation.csv\", index=False)"
   ]
  },
  {
   "cell_type": "code",
   "execution_count": 152,
   "metadata": {},
   "outputs": [
    {
     "data": {
      "text/plain": [
       "Text(0.01, 7.5, 'P = 0.003')"
      ]
     },
     "execution_count": 152,
     "metadata": {},
     "output_type": "execute_result"
    },
    {
     "data": {
      "image/png": "[encoded data removed]",
      "text/plain": [
       "<Figure size 500x500 with 1 Axes>"
      ]
     },
     "metadata": {},
     "output_type": "display_data"
    }
   ],
   "source": [
    "fig, axes = plt.subplots(1, 1, figsize=(5, 5), dpi = 100)\n",
    "sns.set_theme(style = \"white\", font_scale = 1.1)\n",
    "axes = sns.kdeplot(x = perm_diffs, \n",
    "                   fill = True, \n",
    "                   common_norm= False,\n",
    "                   color = \"grey\")\n",
    "axes.set_xlabel(\"Fraction with increased eSTR mutability\")\n",
    "axes.set_title(\"CRC MSS\")\n",
    "\n",
    "axes.vlines(x = 16/45, \n",
    "            ymin=0,\n",
    "            ymax = axes.get_ylim()[1],\n",
    "            color = sns.color_palette()[0])\n",
    "axes.text(0.01, 7.5, \"P = 0.003\")"
   ]
  },
  {
   "cell_type": "code",
   "execution_count": null,
   "metadata": {},
   "outputs": [],
   "source": []
  },
  {
   "cell_type": "code",
   "execution_count": 12,
   "metadata": {},
   "outputs": [],
   "source": [
    "def mutation_calculate(df_str):\n",
    "    df_indel = df_str[[\"tmp_id\", \"patient\", \"allele_a_diff\", \"allele_b_diff\", \"patient_len_diff\", \"msi_status\"]].dropna(subset = [\"msi_status\"])\n",
    "    df_somatic_deletions = (df_indel\n",
    "                                .assign(\n",
    "                                    allele_a_diff = lambda x: np.minimum(0, x.allele_a_diff),\n",
    "                                    allele_b_diff = lambda x: np.minimum(0, x.allele_b_diff),\n",
    "                                    patient_len_diff = lambda x: abs(x.allele_a_diff + x.allele_b_diff),\n",
    "                                    mut_type = pd.Categorical([\"deletion\"] * len(df_indel))\n",
    "                                ))\n",
    "    df_barplot_deletions = (\n",
    "        df_somatic_deletions\n",
    "            .groupby(\"patient\")\n",
    "            .size()\n",
    "            .reset_index()\n",
    "    )\n",
    "    df_barplot_deletions.columns = [\"patient\", \"total_count\"]\n",
    "\n",
    "    df_barplot_deletions = df_barplot_deletions.merge(\n",
    "        df_somatic_deletions[df_somatic_deletions[\"patient_len_diff\"] > 0].groupby(\"patient\").size().reset_index(),\n",
    "        on=\"patient\", how=\"left\"\n",
    "    )\n",
    "\n",
    "    df_barplot_deletions.columns = [\"patient\", \"total_count\", \"variable_count\"]\n",
    "    df_barplot_deletions[\"perc_loci_var\"] = df_barplot_deletions[\"variable_count\"] / df_barplot_deletions[\"total_count\"] * 100\n",
    "    df_barplot_deletions = df_barplot_deletions.merge(df_indel[[\"patient\", \"msi_status\"]], on=\"patient\", how=\"left\")\n",
    "    df_barplot_deletions = (\n",
    "        df_barplot_deletions\n",
    "            .drop_duplicates()\n",
    "            .sort_values(by=\"perc_loci_var\")\n",
    "            .reset_index(drop=True)\n",
    "            .assign(patient = lambda x: x.patient.apply(str))\n",
    "    )\n",
    "    df_somatic_insertions = (df_indel\n",
    "                                .assign(\n",
    "                                    allele_a_diff = lambda x: np.maximum(0, x.allele_a_diff),\n",
    "                                    allele_b_diff = lambda x: np.maximum(0, x.allele_b_diff),\n",
    "                                    patient_len_diff = lambda x: abs(x.allele_a_diff + x.allele_b_diff),\n",
    "                                    mut_type = pd.Categorical([\"insertion\"] * len(df_indel))\n",
    "                                ))\n",
    "    df_barplot_insertions = (\n",
    "        df_somatic_insertions\n",
    "            .groupby(\"patient\")\n",
    "            .size()\n",
    "            .reset_index()\n",
    "    )\n",
    "    df_barplot_insertions.columns = [\"patient\", \"total_count\"]\n",
    "\n",
    "    df_barplot_insertions = df_barplot_insertions.merge(\n",
    "        df_somatic_insertions[df_somatic_insertions[\"patient_len_diff\"] > 0].groupby(\"patient\").size().reset_index(),\n",
    "        on=\"patient\", how=\"left\"\n",
    "    )\n",
    "\n",
    "    df_barplot_insertions.columns = [\"patient\", \"total_count\", \"variable_count\"]\n",
    "    df_barplot_insertions[\"perc_loci_var\"] = df_barplot_insertions[\"variable_count\"] / df_barplot_insertions[\"total_count\"] * 100\n",
    "    # df_barplot_insertions = df_barplot_insertions.merge(df_clinical, on=\"patient\", how=\"left\")\n",
    "    df_barplot_insertions = df_barplot_insertions.merge(df_indel[[\"patient\", \"msi_status\"]], on=\"patient\", how=\"left\")\n",
    "    df_barplot_insertions = (\n",
    "        df_barplot_insertions\n",
    "            .drop_duplicates()\n",
    "            .sort_values(by=\"perc_loci_var\")\n",
    "            .reset_index(drop=True)\n",
    "            .assign(patient = lambda x: x.patient.apply(str))\n",
    "    )\n",
    "\n",
    "    target_cols = []\n",
    "    df_somatic_indels = pd.concat([\n",
    "        df_barplot_deletions.assign(mut_type = pd.Categorical([\"deletion\"] * len(df_barplot_deletions), categories=[\"deletion\", \"insertion\"])),\n",
    "        df_barplot_insertions.assign(mut_type = pd.Categorical([\"insertion\"] * len(df_barplot_insertions), categories=[\"deletion\", \"insertion\"]))\n",
    "    ]).reset_index(drop=True)\n",
    "    \n",
    "    return df_somatic_indels"
   ]
  },
  {
   "cell_type": "code",
   "execution_count": 94,
   "metadata": {},
   "outputs": [],
   "source": [
    "msi_info = pd.read_csv(\"../clinical/\" + cancer_type + \"_msi.csv\")\n",
    "msi_info.loc[msi_info[\"msi_status\"] == \"msi-l\", \"msi_status\"] = \"mss\"\n",
    "msi_info.loc[msi_info[\"msi_status\"] == \"indeterminate\", \"msi_status\"] = \"mss\"\n",
    "df_estr = df_estr.merge(msi_info, on = \"patient\", how=\"left\")\n",
    "df_ne_str = df_nestr.merge(msi_info, on = \"patient\", how = \"left\")"
   ]
  },
  {
   "cell_type": "code",
   "execution_count": 9,
   "metadata": {},
   "outputs": [
    {
     "ename": "NameError",
     "evalue": "name 'df_estr' is not defined",
     "output_type": "error",
     "traceback": [
      "\u001b[1;31m---------------------------------------------------------------------------\u001b[0m",
      "\u001b[1;31mNameError\u001b[0m                                 Traceback (most recent call last)",
      "Input \u001b[1;32mIn [9]\u001b[0m, in \u001b[0;36m<cell line: 1>\u001b[1;34m()\u001b[0m\n\u001b[1;32m----> 1\u001b[0m df_somatic_indels \u001b[38;5;241m=\u001b[39m mutation_calculate(\u001b[43mdf_estr\u001b[49m)\n\u001b[0;32m      2\u001b[0m df_ne_somatic \u001b[38;5;241m=\u001b[39m mutation_calculate(df_ne_str)\n",
      "\u001b[1;31mNameError\u001b[0m: name 'df_estr' is not defined"
     ]
    }
   ],
   "source": [
    "df_somatic_indels = mutation_calculate(df_estr)\n",
    "df_ne_somatic = mutation_calculate(df_ne_str)"
   ]
  },
  {
   "cell_type": "code",
   "execution_count": 105,
   "metadata": {},
   "outputs": [],
   "source": [
    "com_str = pd.merge(df_somatic_indels.groupby(\"patient\")[\"perc_loci_var\"].sum().to_frame(),\n",
    "                       df_ne_somatic.groupby(\"patient\")[\"perc_loci_var\"].sum().to_frame(), on = \"patient\")"
   ]
  },
  {
   "cell_type": "code",
   "execution_count": 109,
   "metadata": {},
   "outputs": [],
   "source": [
    "com_str = com_str.merge(msi_info, on = \"patient\")"
   ]
  },
  {
   "cell_type": "code",
   "execution_count": 122,
   "metadata": {},
   "outputs": [
    {
     "data": {
      "text/plain": [
       "<AxesSubplot:xlabel='msi_status', ylabel='perc_loci_var_x'>"
      ]
     },
     "execution_count": 122,
     "metadata": {},
     "output_type": "execute_result"
    },
    {
     "data": {
      "image/png": "[encoded data removed]",
      "text/plain": [
       "<Figure size 432x288 with 1 Axes>"
      ]
     },
     "metadata": {
      "needs_background": "light"
     },
     "output_type": "display_data"
    }
   ],
   "source": [
    "sns.boxplot(data = com_str, x = \"msi_status\", y = \"perc_loci_var_x\")"
   ]
  },
  {
   "cell_type": "code",
   "execution_count": 121,
   "metadata": {},
   "outputs": [
    {
     "data": {
      "text/plain": [
       "<AxesSubplot:xlabel='msi_status', ylabel='perc_loci_var_y'>"
      ]
     },
     "execution_count": 121,
     "metadata": {},
     "output_type": "execute_result"
    },
    {
     "data": {
      "image/png": "[encoded data removed]",
      "text/plain": [
       "<Figure size 432x288 with 1 Axes>"
      ]
     },
     "metadata": {
      "needs_background": "light"
     },
     "output_type": "display_data"
    }
   ],
   "source": [
    "sns.boxplot(data = com_str, x = \"msi_status\", y = \"perc_loci_var_y\")"
   ]
  },
  {
   "cell_type": "code",
   "execution_count": 110,
   "metadata": {},
   "outputs": [
    {
     "data": {
      "text/plain": [
       "<AxesSubplot:xlabel='perc_loci_var_x', ylabel='perc_loci_var_y'>"
      ]
     },
     "execution_count": 110,
     "metadata": {},
     "output_type": "execute_result"
    },
    {
     "data": {
      "image/png": "[encoded data removed]",
      "text/plain": [
       "<Figure size 432x288 with 1 Axes>"
      ]
     },
     "metadata": {
      "needs_background": "light"
     },
     "output_type": "display_data"
    }
   ],
   "source": [
    "sns.scatterplot(data = com_str.loc[com_str[\"msi_status\"] == \"mss\"], x = \"perc_loci_var_x\", y = \"perc_loci_var_y\")"
   ]
  },
  {
   "cell_type": "code",
   "execution_count": 116,
   "metadata": {},
   "outputs": [],
   "source": [
    "df_mss_ne = df_ne_somatic.query(\" msi_status == 'mss' \")\n",
    "df_mss_es = df_somatic_indels.query(\" msi_status == 'mss' \")\n",
    "com_str_mss = pd.concat([df_mss_ne.groupby(\"patient\")[\"perc_loci_var\"].sum().to_frame(),\n",
    "                       df_mss_es.groupby(\"patient\")[\"perc_loci_var\"].sum().to_frame()], ignore_index=True)"
   ]
  },
  {
   "cell_type": "code",
   "execution_count": 117,
   "metadata": {},
   "outputs": [],
   "source": [
    "com_str_mss[\"estr\"] = [\"neSTR\"]*int(df_mss_es.shape[0]/2) + [\"eSTR\"]*int(df_mss_es.shape[0]/2)"
   ]
  },
  {
   "cell_type": "code",
   "execution_count": 118,
   "metadata": {},
   "outputs": [
    {
     "data": {
      "text/plain": [
       "<AxesSubplot:xlabel='estr', ylabel='perc_loci_var'>"
      ]
     },
     "execution_count": 118,
     "metadata": {},
     "output_type": "execute_result"
    },
    {
     "data": {
      "image/png": "[encoded data removed]",
      "text/plain": [
       "<Figure size 432x288 with 1 Axes>"
      ]
     },
     "metadata": {
      "needs_background": "light"
     },
     "output_type": "display_data"
    }
   ],
   "source": [
    "sns.boxplot(data = com_str_mss, x = \"estr\", y = \"perc_loci_var\")"
   ]
  },
  {
   "cell_type": "code",
   "execution_count": 115,
   "metadata": {},
   "outputs": [
    {
     "data": {
      "text/plain": [
       "<AxesSubplot:xlabel='estr', ylabel='perc_loci_var'>"
      ]
     },
     "execution_count": 115,
     "metadata": {},
     "output_type": "execute_result"
    },
    {
     "data": {
      "image/png": "[encoded data removed]",
      "text/plain": [
       "<Figure size 432x288 with 1 Axes>"
      ]
     },
     "metadata": {
      "needs_background": "light"
     },
     "output_type": "display_data"
    }
   ],
   "source": [
    "sns.boxplot(data = com_str_mss, x = \"estr\", y = \"perc_loci_var\")"
   ]
  },
  {
   "cell_type": "code",
   "execution_count": 101,
   "metadata": {},
   "outputs": [
    {
     "data": {
      "text/plain": [
       "<AxesSubplot:xlabel='perc_loci_var', ylabel='Count'>"
      ]
     },
     "execution_count": 101,
     "metadata": {},
     "output_type": "execute_result"
    },
    {
     "data": {
      "image/png": "[encoded data removed]",
      "text/plain": [
       "<Figure size 432x288 with 1 Axes>"
      ]
     },
     "metadata": {
      "needs_background": "light"
     },
     "output_type": "display_data"
    }
   ],
   "source": [
    "sns.histplot(data = com_str_mss, x = \"perc_loci_var\", hue = \"estr\")"
   ]
  },
  {
   "cell_type": "code",
   "execution_count": 167,
   "metadata": {},
   "outputs": [],
   "source": [
    "df_somatic_indels.to_csv(\"crc_estr_mutation.csv\", index = False)"
   ]
  },
  {
   "cell_type": "markdown",
   "metadata": {},
   "source": [
    "## str mutation calculation"
   ]
  },
  {
   "cell_type": "code",
   "execution_count": 15,
   "metadata": {},
   "outputs": [],
   "source": [
    "df_vstr = df_str.query(\"patient_len_diff != 0 \")"
   ]
  },
  {
   "cell_type": "code",
   "execution_count": 16,
   "metadata": {},
   "outputs": [],
   "source": [
    "df_vstr.to_csv(\"./exp_paired/ucec_vstr.csv\", index = False)"
   ]
  },
  {
   "cell_type": "code",
   "execution_count": 34,
   "metadata": {},
   "outputs": [],
   "source": [
    "msi_info = pd.read_csv(\"../clinical/\" + cancer_type + \"_msi.csv\")\n",
    "msi_info.loc[msi_info[\"msi_status\"] == \"msi-l\", \"msi_status\"] = \"mss\"\n",
    "msi_info.loc[msi_info[\"msi_status\"] == \"indeterminate\", \"msi_status\"] = \"mss\"\n",
    "df_str = df_str.merge(msi_info, on = \"patient\", how=\"left\")\n",
    "df_somatic_indels = mutation_calculate(df_str)"
   ]
  },
  {
   "cell_type": "code",
   "execution_count": 36,
   "metadata": {},
   "outputs": [],
   "source": [
    "df_somatic_indels.to_csv(\"./to_group/UCEC_STR_perc.csv\", index = False)"
   ]
  },
  {
   "cell_type": "code",
   "execution_count": 37,
   "metadata": {},
   "outputs": [
    {
     "name": "stdout",
     "output_type": "stream",
     "text": [
      "p-value annotation legend:\n",
      "      ns: p <= 1.00e+00\n",
      "       *: 1.00e-02 < p <= 5.00e-02\n",
      "      **: 1.00e-03 < p <= 1.00e-02\n",
      "     ***: 1.00e-04 < p <= 1.00e-03\n",
      "    ****: p <= 1.00e-04\n",
      "\n",
      "insertion_mss vs. insertion_msi-h: Mann-Whitney-Wilcoxon test two-sided, P_val:3.188e-07 U_stat=1.598e+04\n",
      "deletion_mss vs. deletion_msi-h: Mann-Whitney-Wilcoxon test two-sided, P_val:1.072e-61 U_stat=7.530e+02\n"
     ]
    },
    {
     "data": {
      "text/plain": [
       "Text(0.5, 1.0, 'UCEC')"
      ]
     },
     "execution_count": 37,
     "metadata": {},
     "output_type": "execute_result"
    },
    {
     "data": {
      "image/png": "[encoded data removed]",
      "text/plain": [
       "<Figure size 600x500 with 1 Axes>"
      ]
     },
     "metadata": {},
     "output_type": "display_data"
    }
   ],
   "source": [
    "fig, axes = plt.subplots(1, 1, figsize=(6, 5), dpi = 100)\n",
    "custom_params = {\"axes.spines.right\": False, \"axes.spines.top\": False}\n",
    "sns.set_theme(style=\"ticks\", rc=custom_params, font_scale = 1.2)\n",
    "\n",
    "sns.boxplot(ax = axes,\n",
    "    data = df_somatic_indels,\n",
    "    x=\"mut_type\",\n",
    "    y=\"perc_loci_var\",\n",
    "    hue=\"msi_status\",\n",
    "    boxprops={'facecolor':'None'}\n",
    ")\n",
    "annot = Annotator(ax = axes, pairs = [((\"deletion\", \"mss\"), (\"deletion\", \"msi-h\")), \n",
    "                                         ((\"insertion\", \"mss\"), (\"insertion\", \"msi-h\"))], hue = \"msi_status\",\n",
    "                  data = df_somatic_indels, x = \"mut_type\", y = \"perc_loci_var\")\n",
    "annot.configure(test='Mann-Whitney', text_format='star', loc='inside', verbose=2)\n",
    "annot.apply_test().annotate()\n",
    "\n",
    "handles = axes.legend_.legendHandles\n",
    "labels = [text.get_text() for text in axes.legend_.texts]\n",
    "\n",
    "sns.stripplot(ax = axes,\n",
    "    data = df_somatic_indels,\n",
    "    x=\"mut_type\",\n",
    "    y=\"perc_loci_var\",\n",
    "    hue=\"msi_status\",\n",
    "    palette=\"colorblind\",\n",
    "    dodge=True,\n",
    "    color=\"black\",\n",
    "    s=4\n",
    ")\n",
    "\n",
    "axes.set(\n",
    "    xlabel=\"Mutation type\",\n",
    "    ylabel=\"Percentage of STRs\",    \n",
    "    ylim=(None, axes.get_ylim()[1] + 2),\n",
    ")\n",
    "\n",
    "legend_handles, _ = axes.get_legend_handles_labels()\n",
    "axes.legend(legend_handles, [\"MSS\", \"MSI\"], \n",
    "           bbox_to_anchor=(1,1))\n",
    "axes.set_title(cancer_type)"
   ]
  },
  {
   "cell_type": "code",
   "execution_count": 149,
   "metadata": {},
   "outputs": [
    {
     "data": {
      "text/plain": [
       "mss      323.0\n",
       "msi-h    141.0\n",
       "Name: msi_status, dtype: float64"
      ]
     },
     "execution_count": 149,
     "metadata": {},
     "output_type": "execute_result"
    }
   ],
   "source": [
    "df_somatic_indels[\"msi_status\"].value_counts()/2"
   ]
  },
  {
   "cell_type": "code",
   "execution_count": 150,
   "metadata": {},
   "outputs": [
    {
     "data": {
      "text/plain": [
       "<matplotlib.legend.Legend at 0x25809f3aef0>"
      ]
     },
     "execution_count": 150,
     "metadata": {},
     "output_type": "execute_result"
    },
    {
     "data": {
      "image/png": "[encoded data removed]",
      "text/plain": [
       "<Figure size 600x400 with 1 Axes>"
      ]
     },
     "metadata": {},
     "output_type": "display_data"
    }
   ],
   "source": [
    "fig, axes = plt.subplots(1, 1, figsize=(6, 4), dpi = 100)\n",
    "sns.histplot(ax = axes, data = df_somatic_indels.query(\"mut_type == 'deletion'\"),\n",
    "             x = \"variable_count\", hue = \"msi_status\", multiple=\"stack\")\n",
    "axes.set_xlabel(\"Number of STR deletion per patient\")\n",
    "old_legend = axes.legend_\n",
    "handles = old_legend.legendHandles\n",
    "axes.legend(handles, [\"MSS\", \"MSI\"])"
   ]
  },
  {
   "cell_type": "code",
   "execution_count": 151,
   "metadata": {},
   "outputs": [
    {
     "data": {
      "text/plain": [
       "<matplotlib.legend.Legend at 0x257a6233c70>"
      ]
     },
     "execution_count": 151,
     "metadata": {},
     "output_type": "execute_result"
    },
    {
     "data": {
      "image/png": "[encoded data removed]",
      "text/plain": [
       "<Figure size 400x400 with 1 Axes>"
      ]
     },
     "metadata": {},
     "output_type": "display_data"
    }
   ],
   "source": [
    "fig, axes = plt.subplots(1, 1, figsize=(4, 4), dpi = 100)\n",
    "axes = sns.histplot(data = df_somatic_indels.query(\"mut_type == 'insertion'\"),\n",
    "             x = \"variable_count\", hue = \"msi_status\", multiple=\"stack\", bins = 20, hue_order=[\"mss\", \"msi-h\"])\n",
    "axes.set_xlabel(\"Number of STR insertion per patient\")\n",
    "old_legend = axes.legend_\n",
    "handles = old_legend.legendHandles\n",
    "axes.legend(handles, [\"MSS\", \"MSI\"])"
   ]
  }
 ],
 "metadata": {
  "kernelspec": {
   "display_name": "Python 3",
   "language": "python",
   "name": "python3"
  },
  "language_info": {
   "codemirror_mode": {
    "name": "ipython",
    "version": 3
   },
   "file_extension": ".py",
   "mimetype": "text/x-python",
   "name": "python",
   "nbconvert_exporter": "python",
   "pygments_lexer": "ipython3",
   "version": "3.10.4"
  }
 },
 "nbformat": 4,
 "nbformat_minor": 2
}
